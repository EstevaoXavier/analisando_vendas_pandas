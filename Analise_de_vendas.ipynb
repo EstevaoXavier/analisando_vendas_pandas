{
  "nbformat": 4,
  "nbformat_minor": 0,
  "metadata": {
    "colab": {
      "provenance": []
    },
    "kernelspec": {
      "name": "python3",
      "display_name": "Python 3"
    },
    "language_info": {
      "name": "python"
    }
  },
  "cells": [
    {
      "cell_type": "code",
      "execution_count": 19,
      "metadata": {
        "id": "hkkkE1psySPO"
      },
      "outputs": [],
      "source": [
        "import pandas as pd"
      ]
    },
    {
      "cell_type": "code",
      "source": [
        "df = pd.read_excel('Vendas.xlsx')\n",
        "print('importando')\n",
        "dfcodigo_venda = df['Código Venda']\n",
        "dfdata = df['Data']\n",
        "dfloja = df['ID Loja']\n",
        "dfproduto = df['Produto']\n",
        "dfquantidade = df['Quantidade']\n",
        "dfvalor_unitario = df['Valor Unitário']\n",
        "dfvalor_final = df['Valor Final']\n"
      ],
      "metadata": {
        "id": "VDO6iFZHymr9"
      },
      "execution_count": 39,
      "outputs": []
    },
    {
      "cell_type": "code",
      "source": [
        "dfproduto"
      ],
      "metadata": {
        "colab": {
          "base_uri": "https://localhost:8080/"
        },
        "id": "58q5lvnmV5ba",
        "outputId": "15d200fe-fd87-4eab-e13a-07f17888b714"
      },
      "execution_count": 40,
      "outputs": [
        {
          "output_type": "execute_result",
          "data": {
            "text/plain": [
              "0           Sapato Estampa\n",
              "1                 Camiseta\n",
              "2            Sapato Xadrez\n",
              "3                  Relógio\n",
              "4             Chinelo Liso\n",
              "               ...        \n",
              "93905       Mochila Xadrez\n",
              "93906    Pulseira Listrado\n",
              "93907       Cueca Listrado\n",
              "93908       Pulseira Linho\n",
              "93909        Casaco Xadrez\n",
              "Name: Produto, Length: 93910, dtype: object"
            ]
          },
          "metadata": {},
          "execution_count": 40
        }
      ]
    }
  ]
}