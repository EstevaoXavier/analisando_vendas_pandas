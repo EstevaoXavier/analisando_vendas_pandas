{
  "nbformat": 4,
  "nbformat_minor": 0,
  "metadata": {
    "colab": {
      "provenance": [],
      "authorship_tag": "ABX9TyP54kuOHI3slr/ivs5eD4tZ",
      "include_colab_link": true
    },
    "kernelspec": {
      "name": "python3",
      "display_name": "Python 3"
    },
    "language_info": {
      "name": "python"
    }
  },
  "cells": [
    {
      "cell_type": "markdown",
      "metadata": {
        "id": "view-in-github",
        "colab_type": "text"
      },
      "source": [
        "<a href=\"https://colab.research.google.com/github/EstevaoXavier/analisando_vendas_pandas/blob/main/analise_de_vendas.ipynb\" target=\"_parent\"><img src=\"https://colab.research.google.com/assets/colab-badge.svg\" alt=\"Open In Colab\"/></a>"
      ]
    },
    {
      "cell_type": "code",
      "execution_count": 4,
      "metadata": {
        "id": "hkkkE1psySPO"
      },
      "outputs": [],
      "source": [
        "import pandas as pd"
      ]
    },
    {
      "cell_type": "code",
      "source": [
        "df = pd.read_excel('Vendas.xlsx')\n",
        "\n",
        "dfcodigo_venda = df['Código Venda']\n",
        "dfdata = df['Data']\n",
        "dfloja = df['ID Loja']\n",
        "dfproduto = df['Produto']\n",
        "dfquantidade = df['Quantidade']\n",
        "dfvalor_unitario = df['Valor Unitário']\n",
        "dfvalor_final = df['Valor Final']\n"
      ],
      "metadata": {
        "id": "VDO6iFZHymr9"
      },
      "execution_count": 5,
      "outputs": []
    },
    {
      "cell_type": "code",
      "source": [
        "df.loc[9,'Valor Final']"
      ],
      "metadata": {
        "colab": {
          "base_uri": "https://localhost:8080/"
        },
        "id": "58q5lvnmV5ba",
        "outputId": "7e1960bc-fc27-44be-e910-378afadd4279"
      },
      "execution_count": 15,
      "outputs": [
        {
          "output_type": "execute_result",
          "data": {
            "text/plain": [
              "105"
            ]
          },
          "metadata": {},
          "execution_count": 15
        }
      ]
    },
    {
      "cell_type": "code",
      "source": [
        "dfdata = pd.to_datetime(dfdata, format='%m/%d/%Y')\n",
        "dfdata"
      ],
      "metadata": {
        "colab": {
          "base_uri": "https://localhost:8080/"
        },
        "id": "fxF-ivYyKhVm",
        "outputId": "8495db15-9b16-49b0-aefa-bc66d28b618d"
      },
      "execution_count": 18,
      "outputs": [
        {
          "output_type": "execute_result",
          "data": {
            "text/plain": [
              "0       2019-01-01\n",
              "1       2019-01-01\n",
              "2       2019-01-01\n",
              "3       2019-01-02\n",
              "4       2019-01-02\n",
              "           ...    \n",
              "93905   2019-11-30\n",
              "93906   2019-11-30\n",
              "93907   2019-11-30\n",
              "93908   2019-11-30\n",
              "93909   2019-11-30\n",
              "Name: Data, Length: 93910, dtype: datetime64[ns]"
            ]
          },
          "metadata": {},
          "execution_count": 18
        }
      ]
    },
    {
      "cell_type": "code",
      "source": [
        "import matplotlib.pyplot as plt"
      ],
      "metadata": {
        "id": "PfHfVyI2HiA8"
      },
      "execution_count": 2,
      "outputs": []
    }
  ]
}